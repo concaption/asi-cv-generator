{
 "cells": [
  {
   "cell_type": "code",
   "execution_count": 9,
   "metadata": {},
   "outputs": [],
   "source": [
    "from docx import Document\n",
    "from docx.shared import Pt, Inches\n",
    "from docx.enum.text import WD_PARAGRAPH_ALIGNMENT\n",
    "from docx.oxml.ns import qn\n",
    "\n",
    "# Create a Document\n",
    "doc = Document()\n",
    "\n",
    "# Set Document Margins\n",
    "section = doc.sections[0]\n",
    "section.top_margin = Inches(1)\n",
    "section.bottom_margin = Inches(1)\n",
    "section.left_margin = Inches(1)\n",
    "section.right_margin = Inches(1)\n",
    "\n",
    "# Define Styles\n",
    "style = doc.styles['Normal']\n",
    "font = style.font\n",
    "font.name = 'Arial'\n",
    "font.size = Pt(12)\n",
    "\n",
    "# Add a function to add a heading\n",
    "def add_heading(text, level):\n",
    "    heading = doc.add_heading(text, level=level)\n",
    "    heading.alignment = WD_PARAGRAPH_ALIGNMENT.CENTER\n",
    "    run = heading.runs[0]\n",
    "    run.font.bold = True\n",
    "\n",
    "# Add a function to add a paragraph\n",
    "def add_paragraph(text, alignment=WD_PARAGRAPH_ALIGNMENT.LEFT):\n",
    "    p = doc.add_paragraph(text)\n",
    "    p.alignment = alignment\n",
    "    return p\n"
   ]
  },
  {
   "cell_type": "code",
   "execution_count": 10,
   "metadata": {},
   "outputs": [
    {
     "data": {
      "text/plain": [
       "<docx.text.paragraph.Paragraph at 0x7f3c1b09f850>"
      ]
     },
     "execution_count": 10,
     "metadata": {},
     "output_type": "execute_result"
    }
   ],
   "source": [
    "add_heading('Name', level=1)\n",
    "add_paragraph('Rosaline Adey', alignment=WD_PARAGRAPH_ALIGNMENT.LEFT)\n",
    "\n",
    "add_heading('Position', level=1)\n",
    "add_paragraph('Expert Pool – PFM & Procurement', alignment=WD_PARAGRAPH_ALIGNMENT.LEFT)\n"
   ]
  },
  {
   "cell_type": "code",
   "execution_count": 11,
   "metadata": {},
   "outputs": [],
   "source": [
    "add_heading('Qualifications', level=1)\n",
    "qualifications = [\n",
    "    \"M.Sc. Procurement, Logistics and Supply Chain, University of Salford, United Kingdom, 2021\",\n",
    "    \"M.A. Management, London Metropolitan University, United Kingdom, 2011\",\n",
    "    \"B.A. Public Administration, International Relations and History, University of Sierra Leone, 2006\"\n",
    "]\n",
    "for q in qualifications:\n",
    "    add_paragraph(q, alignment=WD_PARAGRAPH_ALIGNMENT.LEFT)\n"
   ]
  },
  {
   "cell_type": "code",
   "execution_count": 12,
   "metadata": {},
   "outputs": [
    {
     "data": {
      "text/plain": [
       "<docx.text.paragraph.Paragraph at 0x7f3c1b5e3070>"
      ]
     },
     "execution_count": 12,
     "metadata": {},
     "output_type": "execute_result"
    }
   ],
   "source": [
    "add_heading('Country Experience', level=1)\n",
    "country_exp = \"Sierra Leone, Cote D’Ivoire, Kazakhstan, Kyrgyzstan, Philippines, Tajikistan, Togo\"\n",
    "add_paragraph(country_exp, alignment=WD_PARAGRAPH_ALIGNMENT.LEFT)\n"
   ]
  },
  {
   "cell_type": "code",
   "execution_count": 13,
   "metadata": {},
   "outputs": [
    {
     "data": {
      "text/plain": [
       "<docx.text.paragraph.Paragraph at 0x7f3c1b53aef0>"
      ]
     },
     "execution_count": 13,
     "metadata": {},
     "output_type": "execute_result"
    }
   ],
   "source": [
    "add_heading('Technical Skills', level=1)\n",
    "skills = \"Procurement, Programme Design and Management, Budgeting, Training Design and Delivery, Strategy Development, Research, Human Resource Management\"\n",
    "add_paragraph(skills, alignment=WD_PARAGRAPH_ALIGNMENT.LEFT)\n"
   ]
  },
  {
   "cell_type": "code",
   "execution_count": 14,
   "metadata": {},
   "outputs": [
    {
     "data": {
      "text/plain": [
       "<docx.text.paragraph.Paragraph at 0x7f3c1b7fdd20>"
      ]
     },
     "execution_count": 14,
     "metadata": {},
     "output_type": "execute_result"
    }
   ],
   "source": [
    "add_heading('Language Skills', level=1)\n",
    "languages = \"English (fluent), Krio (fluent), French (fair)\"\n",
    "add_paragraph(languages, alignment=WD_PARAGRAPH_ALIGNMENT.LEFT)\n"
   ]
  },
  {
   "cell_type": "code",
   "execution_count": 15,
   "metadata": {},
   "outputs": [],
   "source": [
    "doc.save('Rosaline_Adey_Profile.docx')\n"
   ]
  }
 ],
 "metadata": {
  "kernelspec": {
   "display_name": ".venv",
   "language": "python",
   "name": "python3"
  },
  "language_info": {
   "codemirror_mode": {
    "name": "ipython",
    "version": 3
   },
   "file_extension": ".py",
   "mimetype": "text/x-python",
   "name": "python",
   "nbconvert_exporter": "python",
   "pygments_lexer": "ipython3",
   "version": "3.10.13"
  },
  "orig_nbformat": 4
 },
 "nbformat": 4,
 "nbformat_minor": 2
}
